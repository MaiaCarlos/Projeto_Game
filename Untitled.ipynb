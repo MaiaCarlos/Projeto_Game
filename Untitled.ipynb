{
 "cells": [
  {
   "cell_type": "markdown",
   "id": "1b60cc3e",
   "metadata": {},
   "source": [
    "<img src=\"https://bit.ly/2VnXWr2\" width=\"100\" align=\"left\">"
   ]
  },
  {
   "cell_type": "markdown",
   "id": "8d6f09cb",
   "metadata": {},
   "source": [
    "# Jogo - De Ilha para Ilha \n",
    "(Fonte: Neves, Maria, Jogos e Matemática, Porto Editora 2020.)\n",
    "\n",
    "Três estrangeiros encontram-se numa ilha com as respetivas malas de viagem.\n",
    "\n",
    "\n",
    "\n",
    "## Contexto \n",
    "\n",
    "    -O Gerard pesa 100Kg e a sua mala 40Kg.\n",
    "\n",
    "    -A Rose pesa 50 Kg e a sua mala 15Kg.\n",
    "\n",
    "    -A Joe pesa 75Kg e a sua mala 25Kg.\n",
    "\n",
    "## Condicionantes:\n",
    "* O Barco, no máximo, leva 140Kg\n",
    "* Nenhum dos estrangeiros deixa que a sua mala fique com algum dos outros.\n",
    "    \n",
    "\n"
   ]
  },
  {
   "cell_type": "code",
   "execution_count": null,
   "id": "9f1e6b3b",
   "metadata": {},
   "outputs": [],
   "source": []
  }
 ],
 "metadata": {
  "kernelspec": {
   "display_name": "Python 3",
   "language": "python",
   "name": "python3"
  },
  "language_info": {
   "codemirror_mode": {
    "name": "ipython",
    "version": 3
   },
   "file_extension": ".py",
   "mimetype": "text/x-python",
   "name": "python",
   "nbconvert_exporter": "python",
   "pygments_lexer": "ipython3",
   "version": "3.8.8"
  }
 },
 "nbformat": 4,
 "nbformat_minor": 5
}
