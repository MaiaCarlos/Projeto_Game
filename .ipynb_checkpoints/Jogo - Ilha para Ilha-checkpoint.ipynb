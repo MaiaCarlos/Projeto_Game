{
 "cells": [
  {
   "cell_type": "markdown",
   "id": "1b60cc3e",
   "metadata": {},
   "source": [
    "<img src=\"https://bit.ly/2VnXWr2\" width=\"100\" align=\"left\">"
   ]
  },
  {
   "cell_type": "markdown",
   "id": "8d6f09cb",
   "metadata": {},
   "source": [
    "# Jogo - De Ilha para Ilha \n",
    "<img src=\"imagens/ilhaparailha.jpeg\" width=\"400\" align=\"right\">\n",
    "(Fonte: Neves, Maria, Jogos e Matemática, Porto Editora 2020.)\n",
    "\n",
    "Três estrangeiros encontram-se numa ilha com as respetivas malas de viagem.\n",
    "\n",
    "\n",
    "\n",
    "## Contexto \n",
    "\n",
    "    -O Gerard pesa 100Kg e a sua mala 40Kg.\n",
    "\n",
    "    -A Rose pesa 50 Kg e a sua mala 15Kg.\n",
    "\n",
    "    -A Joe pesa 75Kg e a sua mala 25Kg.\n",
    "\n",
    "## Condicionantes:\n",
    "   * O Barco, no máximo, leva 140Kg\n",
    "   * Nenhum dos estrangeiros deixa que a sua mala fique com algum dos outros."
   ]
  },
  {
   "cell_type": "markdown",
   "id": "800eab18",
   "metadata": {},
   "source": [
    "# Criar Classe Com Dados e variáveis\n",
    "\n",
    "\n"
   ]
  },
  {
   "cell_type": "code",
   "execution_count": 1,
   "id": "f88e49db",
   "metadata": {},
   "outputs": [],
   "source": [
    "class Passag:\n",
    "    def __init__ (self, nome, peso, Esq=True):\n",
    "        self.nome = nome\n",
    "        self.peso = peso\n",
    "        self.Esq = Esq"
   ]
  },
  {
   "cell_type": "code",
   "execution_count": 2,
   "id": "6c811f6f",
   "metadata": {},
   "outputs": [],
   "source": [
    "class malas(Passag):\n",
    "    def __init__ (self, nome, peso, Esq=True):\n",
    "        self.nome = nome\n",
    "        self.peso = peso\n",
    "        self.Esq = Esq"
   ]
  },
  {
   "cell_type": "code",
   "execution_count": 3,
   "id": "81bdf7c6",
   "metadata": {},
   "outputs": [],
   "source": [
    "class barco:\n",
    "    def __init__(self,nome,Esq=True):\n",
    "        self.nome = nome\n",
    "        self.Esq = Esq"
   ]
  },
  {
   "cell_type": "code",
   "execution_count": 4,
   "id": "2ffe15dd",
   "metadata": {},
   "outputs": [],
   "source": [
    "#Variávies\n",
    "gerard = Passag('Gerard',100)\n",
    "rose = Passag('Rose',50)\n",
    "joe = Passag('Joe',75)\n",
    "\n",
    "g_mala = malas('g_mala',40)\n",
    "r_mala = malas('r_mala',15)\n",
    "j_mala = malas('j_mala',25)\n",
    "\n",
    "barco_pos = barco('Barco')\n",
    "\n",
    "pesomax=140\n",
    "posicao_inicial = str('Esq') "
   ]
  },
  {
   "cell_type": "code",
   "execution_count": 5,
   "id": "427c3d71",
   "metadata": {},
   "outputs": [],
   "source": [
    "import re"
   ]
  },
  {
   "cell_type": "code",
   "execution_count": 6,
   "id": "60b613d0",
   "metadata": {},
   "outputs": [],
   "source": [
    "dic_p_esq={f'{gerard.nome}'+'_'+f'{gerard.peso}':gerard.Esq, f'{rose.nome}'+'_'+f'{rose.peso}':rose.Esq,f'{joe.nome}'+'_'+f'{joe.peso}':joe.Esq}\n",
    "dic_m_esq={f'{g_mala.nome}'+'_'+f'{g_mala.peso}':g_mala.Esq, f'{r_mala.nome}'+'_'+f'{r_mala.peso}':r_mala.Esq,f'{j_mala.nome}'+'_'+f'{j_mala.peso}':j_mala.Esq}"
   ]
  },
  {
   "cell_type": "code",
   "execution_count": 7,
   "id": "fc7b51fe",
   "metadata": {},
   "outputs": [],
   "source": [
    "def alterarposicoes(x):\n",
    "    if x.Esq == True:\n",
    "        return False\n",
    "    if x.Esq == False:\n",
    "        return True\n",
    "    else:\n",
    "        alterarposicoes()\n"
   ]
  },
  {
   "cell_type": "code",
   "execution_count": 8,
   "id": "f54858a4",
   "metadata": {},
   "outputs": [],
   "source": [
    "def barcoposicao():\n",
    "    if barco_pos.Esq==True:\n",
    "        print('BARCO LADO ESQUERDO')\n",
    "    elif barco_pos.Esq==False:\n",
    "        print('BARCO LADO DIREITO') \n",
    "    return barco_pos.Esq"
   ]
  },
  {
   "cell_type": "code",
   "execution_count": 9,
   "id": "34175cf0",
   "metadata": {},
   "outputs": [
    {
     "ename": "SyntaxError",
     "evalue": "invalid syntax (<ipython-input-9-1e3b2cc7a3e3>, line 3)",
     "output_type": "error",
     "traceback": [
      "\u001b[1;36m  File \u001b[1;32m\"<ipython-input-9-1e3b2cc7a3e3>\"\u001b[1;36m, line \u001b[1;32m3\u001b[0m\n\u001b[1;33m    if bar_pos.Esq= True:\u001b[0m\n\u001b[1;37m                  ^\u001b[0m\n\u001b[1;31mSyntaxError\u001b[0m\u001b[1;31m:\u001b[0m invalid syntax\n"
     ]
    }
   ],
   "source": [
    "def escolher():\n",
    "    \n",
    "    if bar_pos.Esq= True:\n",
    "        \n",
    "        "
   ]
  },
  {
   "cell_type": "code",
   "execution_count": null,
   "id": "91b73f6c",
   "metadata": {},
   "outputs": [],
   "source": [
    "def pessoa():\n",
    "    \n",
    "    lista_esq = []\n",
    "    lista_dir = []\n",
    "    \n",
    "    \n",
    "    if barco_pos.Esq == True:\n",
    "        for key, value in dic_p_esq.items():\n",
    "            if value==True:\n",
    "                a=re.findall(r'[A-Za-z]+', key)\n",
    "                \n",
    "                lista_esq.append(a)\n",
    "                \n",
    "        nome = input(\"Escolhe quem vai no barco - \" + str(lista_esq) + \": \")\n",
    "        \n",
    "        while nome != gerard.nome and nome != rose.nome and nome != joe.nome:\n",
    "            nome = input(\"Escolhe quem vai no barco - \" + str(lista_esq) + \": \")\n",
    "        \n",
    "    else:\n",
    "        for key, value in dic_p_esq.items():\n",
    "            if value==False:\n",
    "                lista_dir.append(key)\n",
    "                \n",
    "        nome = input(\"Escolhe quem vai no barco - \" + str(lista_dir) + \": \")\n",
    "        \n",
    "        while nome != gerard.nome and nome != rose.nome and nome != joe.nome:\n",
    "            nome = input(\"Escolhe quem vai no barco - \" + str(lista_dir) + \": \")\n",
    "                \n",
    "    if nome == gerard.nome:        \n",
    "        gerard.Esq = alterarposicoes(gerard)\n",
    "        return gerard\n",
    "    elif nome == rose.nome:        \n",
    "        rose.Esq = alterarposicoes(rose)\n",
    "        return rose\n",
    "    elif nome == joe.nome:        \n",
    "        joe.Esq = alterarposicoes(joe)\n",
    "        return joe"
   ]
  },
  {
   "cell_type": "code",
   "execution_count": 11,
   "id": "dfd9be23",
   "metadata": {},
   "outputs": [],
   "source": [
    "def mala():\n",
    "    nome = input(\"Escolhe a MALA que vai no barco: g_mala, r_mala ou j_mala: \")\n",
    "    if nome == g_mala.nome:\n",
    "        g_mala.Esq = alterarposicoes(g_mala)\n",
    "        return g_mala\n",
    "    elif nome == r_mala.nome:\n",
    "        r_mala.Esq = alterarposicoes(r_mala)\n",
    "        return r_mala\n",
    "    elif nome == j_mala.nome:\n",
    "        j_mala.Esq = alterarposicoes(j_mala)\n",
    "        return j_mala\n",
    "    else:\n",
    "        mala()\n",
    "    "
   ]
  },
  {
   "cell_type": "code",
   "execution_count": 12,
   "id": "2b8a3a38",
   "metadata": {},
   "outputs": [],
   "source": [
    "def margens():\n",
    "    \n",
    "    lista_p_esq=[]\n",
    "    for key, value in dic_p_esq.items():\n",
    "            if value==True:\n",
    "                lista_p_esq.append(key)\n",
    "\n",
    "    #print(lista_p_esq)\n",
    "\n",
    "    lista_m_esq = []\n",
    "\n",
    "    for key, value in dic_m_esq.items():\n",
    "            if value==True:\n",
    "                lista_m_esq.append(key)\n",
    "\n",
    "    #print(lista_m_esq)\n",
    "\n",
    "    lista_p_dir=[]\n",
    "\n",
    "    for key, value in dic_p_esq.items():\n",
    "            if value==False:\n",
    "                lista_p_dir.append(key)\n",
    "\n",
    "    #print(lista_p_dir)\n",
    "\n",
    "    lista_m_dir=[]\n",
    "    for key, value in dic_m_esq.items():\n",
    "            if value==False:\n",
    "                lista_m_dir.append(key)\n",
    "\n",
    "   # print(lista_m_dir)\n",
    "\n",
    "    lista_centro=[\"~~~~~~~~~~~~~~~~~~~~~~~~~~~~~~~~~~~~\"]\n",
    "    lista_esq= lista_p_esq + lista_m_esq\n",
    "    lista_dir= lista_p_dir + lista_m_dir\n",
    "    listatotal= lista_esq + lista_centro + lista_dir\n",
    "    print(listatotal)\n",
    "    return listatotal\n",
    "\n"
   ]
  },
  {
   "cell_type": "code",
   "execution_count": 13,
   "id": "b5076559",
   "metadata": {},
   "outputs": [],
   "source": [
    "def zerar():\n",
    "    \n",
    "    barco_pos.Esq = True\n",
    "    gerard.Esq = True\n",
    "    rose.Esq =True\n",
    "    joe.Esq= True\n",
    "    g_mala.Esq = True\n",
    "    r_mala.Esq=True\n",
    "    j_mala.Esq=True"
   ]
  },
  {
   "cell_type": "markdown",
   "id": "22dce088",
   "metadata": {},
   "source": [
    "# Programação de jogo"
   ]
  },
  {
   "cell_type": "code",
   "execution_count": null,
   "id": "58a9fbc7",
   "metadata": {},
   "outputs": [
    {
     "name": "stdout",
     "output_type": "stream",
     "text": [
      "BARCO LADO ESQUERDO\n",
      "['Gerard_100', 'Rose_50', 'Joe_75', 'g_mala_40', 'r_mala_15', 'j_mala_25', '~~~~~~~~~~~~~~~~~~~~~~~~~~~~~~~~~~~~']\n"
     ]
    }
   ],
   "source": [
    "zerar()\n",
    "while True:\n",
    "        if gerard.Esq == False and rose.Esq==False and joe.Esq == False and g_mala.Esq==False and r_mala.Esq == False and j_mala.Esq == False:\n",
    "            print(\"Parabéns, Fim de Jogo\")\n",
    "            break\n",
    "        else:\n",
    "            \n",
    "            barcoposicao()\n",
    "            margens()\n",
    "            \n",
    "            alterarposicoes(pessoa())\n",
    "            \n",
    "            alterarposicoes(mala())\n",
    "            barco_pos.Esq = alterarposicoes(barco_pos)\n",
    "    \n",
    "            barcoposicao()\n",
    "    \n",
    "            dic_p_esq={f'{gerard.nome}'+'_'+f'{gerard.peso}':gerard.Esq, f'{rose.nome}'+'_'+f'{rose.peso}':rose.Esq,f'{joe.nome}'+'_'+f'{joe.peso}':joe.Esq}\n",
    "            dic_m_esq={f'{g_mala.nome}'+'_'+f'{g_mala.peso}':g_mala.Esq, f'{r_mala.nome}'+'_'+f'{r_mala.peso}':r_mala.Esq,f'{j_mala.nome}'+'_'+f'{j_mala.peso}':j_mala.Esq}\n",
    "\n",
    "            margens()\n",
    "    \n",
    "    "
   ]
  },
  {
   "cell_type": "code",
   "execution_count": null,
   "id": "87ed2873",
   "metadata": {},
   "outputs": [],
   "source": []
  },
  {
   "cell_type": "markdown",
   "id": "9b84a0e9",
   "metadata": {},
   "source": [
    "# Start Game"
   ]
  },
  {
   "cell_type": "markdown",
   "id": "da0891a0",
   "metadata": {},
   "source": [
    "# Barco para  direita"
   ]
  },
  {
   "cell_type": "code",
   "execution_count": 38,
   "id": "23986df2",
   "metadata": {},
   "outputs": [
    {
     "name": "stdout",
     "output_type": "stream",
     "text": [
      "\n",
      "                                                                                         /|___\n",
      "                                                                                       ///|   ))\n",
      "                                                                                     /////|   )))\n",
      "                                                                                   ///////|    )))\n",
      "                                                                                 /////////|     )))\n",
      "                                                                               ///////////|     ))))\n",
      "                                                                             /////////////|     )))\n",
      "                                                                            //////////////|    )))\n",
      "                                                                          ////////////////|___)))\n",
      "                                                                            ______________|________\n",
      "                                                                            \\                    /\n",
      "                                                                        ~~~~~~~~~~~~~~~~~~~~~~~~~~~\n"
     ]
    }
   ],
   "source": [
    "from IPython.display import clear_output\n",
    "import time \n",
    "boats = ['''               /|___\n",
    "             ///|   ))\n",
    "           /////|   )))\n",
    "         ///////|    )))\n",
    "       /////////|     )))\n",
    "     ///////////|     ))))\n",
    "   /////////////|     )))\n",
    "  //////////////|    )))\n",
    "////////////////|___)))\n",
    "  ______________|________\n",
    "  \\                    /\n",
    "~~~~~~~~~~~~~~~~~~~~~~~~~~~''',\n",
    " '''\n",
    "                                               /|___\n",
    "                                             ///|   ))\n",
    "                                           /////|   )))\n",
    "                                         ///////|    )))\n",
    "                                       /////////|     )))\n",
    "                                     ///////////|     ))))\n",
    "                                   /////////////|     )))\n",
    "                                  //////////////|    )))\n",
    "                                ////////////////|___)))\n",
    "                                  ______________|________\n",
    "                                  \\                    /\n",
    "                                ~~~~~~~~~~~~~~~~~~~~~~~~~~~''',\n",
    " '''\n",
    "                                                                                         /|___\n",
    "                                                                                       ///|   ))\n",
    "                                                                                     /////|   )))\n",
    "                                                                                   ///////|    )))\n",
    "                                                                                 /////////|     )))\n",
    "                                                                               ///////////|     ))))\n",
    "                                                                             /////////////|     )))\n",
    "                                                                            //////////////|    )))\n",
    "                                                                          ////////////////|___)))\n",
    "                                                                            ______________|________\n",
    "                                                                            \\                    /\n",
    "                                                                        ~~~~~~~~~~~~~~~~~~~~~~~~~~~''']\n",
    "for b in boats:\n",
    "    clear_output(wait=True)\n",
    "    print(b)\n",
    "    time.sleep(1)"
   ]
  },
  {
   "cell_type": "code",
   "execution_count": null,
   "id": "87837b44",
   "metadata": {},
   "outputs": [],
   "source": []
  },
  {
   "cell_type": "code",
   "execution_count": null,
   "id": "78c37953",
   "metadata": {},
   "outputs": [],
   "source": []
  },
  {
   "cell_type": "markdown",
   "id": "cfc5b78a",
   "metadata": {},
   "source": [
    "# Barco para a esquerda"
   ]
  },
  {
   "cell_type": "code",
   "execution_count": 31,
   "id": "a9f09456",
   "metadata": {},
   "outputs": [
    {
     "name": "stdout",
     "output_type": "stream",
     "text": [
      "               /|___\n",
      "             ///|   ))\n",
      "           /////|   )))\n",
      "         ///////|    )))\n",
      "       /////////|     )))\n",
      "     ///////////|     ))))\n",
      "   /////////////|     )))\n",
      "  //////////////|    )))\n",
      "////////////////|___)))\n",
      "  ______________|________\n",
      "  \\                    /\n",
      "~~~~~~~~~~~~~~~~~~~~~~~~~~~\n"
     ]
    }
   ],
   "source": [
    "from IPython.display import clear_output\n",
    "import time \n",
    "boats = ['''                                                                                         /|___\n",
    "                                                                                       ///|   ))\n",
    "                                                                                     /////|   )))\n",
    "                                                                                   ///////|    )))\n",
    "                                                                                 /////////|     )))\n",
    "                                                                               ///////////|     ))))\n",
    "                                                                             /////////////|     )))\n",
    "                                                                            //////////////|    )))\n",
    "                                                                          ////////////////|___)))\n",
    "                                                                            ______________|________\n",
    "                                                                            \\                    /\n",
    "                                                                        ~~~~~~~~~~~~~~~~~~~~~~~~~~~''','''\n",
    "                                               /|___\n",
    "                                             ///|   ))\n",
    "                                           /////|   )))\n",
    "                                         ///////|    )))\n",
    "                                       /////////|     )))\n",
    "                                     ///////////|     ))))\n",
    "                                   /////////////|     )))\n",
    "                                  //////////////|    )))\n",
    "                                ////////////////|___)))\n",
    "                                  ______________|________\n",
    "                                  \\                    /\n",
    "                                ~~~~~~~~~~~~~~~~~~~~~~~~~~~''',\n",
    "\n",
    "'''               /|___\n",
    "             ///|   ))\n",
    "           /////|   )))\n",
    "         ///////|    )))\n",
    "       /////////|     )))\n",
    "     ///////////|     ))))\n",
    "   /////////////|     )))\n",
    "  //////////////|    )))\n",
    "////////////////|___)))\n",
    "  ______________|________\n",
    "  \\                    /\n",
    "~~~~~~~~~~~~~~~~~~~~~~~~~~~''']\n",
    "for b in boats:\n",
    "    clear_output(wait=True)\n",
    "    print(b)\n",
    "    time.sleep(1)"
   ]
  },
  {
   "cell_type": "code",
   "execution_count": null,
   "id": "c2c31b0e",
   "metadata": {},
   "outputs": [],
   "source": []
  },
  {
   "cell_type": "code",
   "execution_count": null,
   "id": "9a781f62",
   "metadata": {},
   "outputs": [],
   "source": []
  },
  {
   "cell_type": "code",
   "execution_count": null,
   "id": "5e4f53ba",
   "metadata": {},
   "outputs": [],
   "source": []
  },
  {
   "cell_type": "code",
   "execution_count": null,
   "id": "c0ad8b78",
   "metadata": {},
   "outputs": [],
   "source": []
  }
 ],
 "metadata": {
  "kernelspec": {
   "display_name": "Python 3",
   "language": "python",
   "name": "python3"
  },
  "language_info": {
   "codemirror_mode": {
    "name": "ipython",
    "version": 3
   },
   "file_extension": ".py",
   "mimetype": "text/x-python",
   "name": "python",
   "nbconvert_exporter": "python",
   "pygments_lexer": "ipython3",
   "version": "3.8.8"
  }
 },
 "nbformat": 4,
 "nbformat_minor": 5
}
