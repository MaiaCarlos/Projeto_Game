{
 "cells": [
  {
   "cell_type": "markdown",
   "id": "1b60cc3e",
   "metadata": {},
   "source": [
    "<img src=\"https://bit.ly/2VnXWr2\" width=\"100\" align=\"left\">"
   ]
  },
  {
   "cell_type": "markdown",
   "id": "8d6f09cb",
   "metadata": {},
   "source": [
    "# Jogo - De Ilha para Ilha \n",
    "<img src=\"imagens/ilhaparailha.jpeg\" width=\"400\" align=\"right\">\n",
    "(Fonte: Neves, Maria, Jogos e Matemática, Porto Editora 2020.)\n",
    "\n",
    "Três estrangeiros encontram-se numa ilha com as respetivas malas de viagem.\n",
    "\n",
    "\n",
    "\n",
    "## Contexto \n",
    "\n",
    "    -O Gerard pesa 100Kg e a sua mala 40Kg.\n",
    "\n",
    "    -A Rose pesa 50 Kg e a sua mala 15Kg.\n",
    "\n",
    "    -A Joe pesa 75Kg e a sua mala 25Kg.\n",
    "\n",
    "## Condicionantes:\n",
    "   * O Barco, no máximo, leva 140Kg\n",
    "   * Nenhum dos estrangeiros deixa que a sua mala fique com algum dos outros."
   ]
  },
  {
   "cell_type": "markdown",
   "id": "800eab18",
   "metadata": {},
   "source": [
    "# Criar Classe Com Dados e variáveis\n",
    "\n",
    "\n"
   ]
  },
  {
   "cell_type": "code",
   "execution_count": 1,
   "id": "f88e49db",
   "metadata": {},
   "outputs": [],
   "source": [
    "class Passag:\n",
    "    def __init__ (self, nome, peso, Esq=True, Dir=False):\n",
    "        self.nome = nome\n",
    "        self.peso = peso\n",
    "        self.Esq = Esq\n",
    "        self.Dir =Dir\n",
    "    \n",
    "        "
   ]
  },
  {
   "cell_type": "code",
   "execution_count": 2,
   "id": "6c811f6f",
   "metadata": {},
   "outputs": [],
   "source": [
    "class malas(Passag):\n",
    "    def __init__ (self, nome, peso, Esq=True, Dir=False):\n",
    "        self.nome = nome\n",
    "        self.peso = peso\n",
    "        self.Esq = Esq\n",
    "        self.Dir =Dir"
   ]
  },
  {
   "cell_type": "code",
   "execution_count": 3,
   "id": "2ffe15dd",
   "metadata": {},
   "outputs": [],
   "source": [
    "#Variávies\n",
    "gerard = Passag('Gerard',100)\n",
    "rose = Passag('Rose',50)\n",
    "joe = Passag('Joe',75)\n",
    "\n",
    "g_mala = malas('g_mala',40)\n",
    "r_mala = malas('r_mala',15)\n",
    "j_mala = malas('j_mala',25)\n",
    "\n",
    "pesomax=140\n",
    "\n",
    "dic_p_esq={f'{gerard.nome}'+'_'+f'{gerard.peso}':gerard.Esq, f'{rose.nome}'+'_'+f'{rose.peso}':rose.Esq,f'{joe.nome}'+'_'+f'{joe.peso}':joe.Esq}\n",
    "\n",
    "dic_p_dir={f'{gerard.nome}'+'_'+f'{gerard.peso}':gerard.Dir, f'{rose.nome}'+'_'+f'{rose.peso}':rose.Dir,f'{joe.nome}'+'_'+f'{joe.peso}':joe.Dir}\n",
    "\n",
    "dic_m_esq={f'{g_mala.nome}'+'_'+f'{g_mala.peso}':g_mala.Esq, f'{r_mala.nome}'+'_'+f'{r_mala.peso}':r_mala.Esq,f'{j_mala.nome}'+'_'+f'{j_mala.peso}':j_mala.Esq}\n",
    "\n",
    "dic_m_dir={f'{g_mala.nome}'+'_'+f'{g_mala.peso}':g_mala.Dir, f'{r_mala.nome}'+'_'+f'{r_mala.peso}':r_mala.Dir,f'{j_mala.nome}'+'_'+f'{j_mala.peso}':j_mala.Dir}\n"
   ]
  },
  {
   "cell_type": "markdown",
   "id": "22dce088",
   "metadata": {},
   "source": [
    "# Programação de jogo"
   ]
  },
  {
   "cell_type": "code",
   "execution_count": 16,
   "id": "58a9fbc7",
   "metadata": {},
   "outputs": [
    {
     "name": "stdout",
     "output_type": "stream",
     "text": [
      "['Gerard_100', 'Rose_50', 'Joe_75', 'g_mala_40', 'r_mala_15', 'j_mala_25', '~~~~~~~~~~~~~~~~~~~~~~~~~~~~~~~~~~~~']\n",
      "Escolhe quem passa vai no barco: Gerard, Rose ou JoeJoe\n",
      "Escolhe a MALA que vai no barco: g_mala, r_mala ou j_malaJ_mala\n",
      "Escolhe a MALA que vai no barco: g_mala, r_mala ou j_malaj_mala\n",
      "Escolhe a MALA que vai no barco: g_mala, r_mala ou j_malaj_mala\n",
      "j_mala\n"
     ]
    }
   ],
   "source": [
    "while True:\n",
    "    margens()\n",
    "    pessoa()\n",
    "    mala()\n",
    "    \n",
    "    print(mala())\n",
    "\n",
    "    break\n",
    "    if gerard.Dir == True and rose.Dir==True and joe.Dir == True and g_mala.Dir==True and r_mala.Dir == True and j_mala.Dir == True:\n",
    "        Print(\"Parabéns, Fim de Jogo\")\n",
    "        \n",
    "    "
   ]
  },
  {
   "cell_type": "code",
   "execution_count": 4,
   "id": "fa60cabf",
   "metadata": {},
   "outputs": [],
   "source": [
    "def pessoa():\n",
    "    a=input(\"Escolhe quem passa vai no barco: Gerard, Rose ou Joe\")\n",
    "    if a == gerard.nome or a== rose.nome or a == joe.nome:\n",
    "        return a    \n",
    "    else:\n",
    "        pessoa()\n"
   ]
  },
  {
   "cell_type": "code",
   "execution_count": 5,
   "id": "018e942a",
   "metadata": {},
   "outputs": [],
   "source": [
    "def mala():\n",
    "    a=input(\"Escolhe a MALA que vai no barco: g_mala, r_mala ou j_mala\")\n",
    "    if a == g_mala.nome or a== r_mala.nome or a == j_mala.nome:\n",
    "        return a    \n",
    "    else:\n",
    "        mala()\n"
   ]
  },
  {
   "cell_type": "code",
   "execution_count": 13,
   "id": "9155dd5e",
   "metadata": {},
   "outputs": [],
   "source": [
    "def margens():\n",
    "    lista_p_esq=[]\n",
    "\n",
    "    for key, value in dic_p_esq.items():\n",
    "        if value==True:\n",
    "            lista_p_esq.append(key)\n",
    "\n",
    "    #print(lista_p_esq)\n",
    "\n",
    "    lista_m_esq = []\n",
    "\n",
    "    for key, value in dic_m_esq.items():\n",
    "        if value==True:\n",
    "            lista_m_esq.append(key)\n",
    "\n",
    "    #print(lista_m_esq)\n",
    "\n",
    "    lista_p_dir=[]\n",
    "\n",
    "    for key, value in dic_p_dir.items():\n",
    "        if value==True:\n",
    "            lista_p_dir.append(key)\n",
    "\n",
    "    #print(lista_p_dir)\n",
    "\n",
    "    lista_m_dir=[]\n",
    "    for key, value in dic_m_dir.items():\n",
    "        if value==True:\n",
    "            lista_m_dir.append(key)\n",
    "\n",
    "   # print(lista_m_dir)\n",
    "\n",
    "    lista_centro=[\"~~~~~~~~~~~~~~~~~~~~~~~~~~~~~~~~~~~~\"]\n",
    "    lista_esq= lista_p_esq + lista_m_esq\n",
    "    lista_dir= lista_p_dir + lista_m_dir\n",
    "    listatotal= lista_esq + lista_centro + lista_dir\n",
    "    print(listatotal)\n",
    "    return listatotal\n",
    "\n",
    "\n",
    "    "
   ]
  },
  {
   "cell_type": "code",
   "execution_count": null,
   "id": "2554db79",
   "metadata": {},
   "outputs": [],
   "source": []
  },
  {
   "cell_type": "code",
   "execution_count": null,
   "id": "9fe14708",
   "metadata": {},
   "outputs": [],
   "source": []
  },
  {
   "cell_type": "code",
   "execution_count": null,
   "id": "62389c61",
   "metadata": {},
   "outputs": [],
   "source": []
  },
  {
   "cell_type": "code",
   "execution_count": null,
   "id": "f04b56aa",
   "metadata": {},
   "outputs": [],
   "source": []
  },
  {
   "cell_type": "markdown",
   "id": "9b84a0e9",
   "metadata": {},
   "source": [
    "# Start Game"
   ]
  },
  {
   "cell_type": "markdown",
   "id": "da0891a0",
   "metadata": {},
   "source": [
    "# Barco para  direita"
   ]
  },
  {
   "cell_type": "code",
   "execution_count": 38,
   "id": "23986df2",
   "metadata": {},
   "outputs": [
    {
     "name": "stdout",
     "output_type": "stream",
     "text": [
      "\n",
      "                                                                                         /|___\n",
      "                                                                                       ///|   ))\n",
      "                                                                                     /////|   )))\n",
      "                                                                                   ///////|    )))\n",
      "                                                                                 /////////|     )))\n",
      "                                                                               ///////////|     ))))\n",
      "                                                                             /////////////|     )))\n",
      "                                                                            //////////////|    )))\n",
      "                                                                          ////////////////|___)))\n",
      "                                                                            ______________|________\n",
      "                                                                            \\                    /\n",
      "                                                                        ~~~~~~~~~~~~~~~~~~~~~~~~~~~\n"
     ]
    }
   ],
   "source": [
    "from IPython.display import clear_output\n",
    "import time \n",
    "boats = ['''               /|___\n",
    "             ///|   ))\n",
    "           /////|   )))\n",
    "         ///////|    )))\n",
    "       /////////|     )))\n",
    "     ///////////|     ))))\n",
    "   /////////////|     )))\n",
    "  //////////////|    )))\n",
    "////////////////|___)))\n",
    "  ______________|________\n",
    "  \\                    /\n",
    "~~~~~~~~~~~~~~~~~~~~~~~~~~~''',\n",
    " '''\n",
    "                                               /|___\n",
    "                                             ///|   ))\n",
    "                                           /////|   )))\n",
    "                                         ///////|    )))\n",
    "                                       /////////|     )))\n",
    "                                     ///////////|     ))))\n",
    "                                   /////////////|     )))\n",
    "                                  //////////////|    )))\n",
    "                                ////////////////|___)))\n",
    "                                  ______________|________\n",
    "                                  \\                    /\n",
    "                                ~~~~~~~~~~~~~~~~~~~~~~~~~~~''',\n",
    " '''\n",
    "                                                                                         /|___\n",
    "                                                                                       ///|   ))\n",
    "                                                                                     /////|   )))\n",
    "                                                                                   ///////|    )))\n",
    "                                                                                 /////////|     )))\n",
    "                                                                               ///////////|     ))))\n",
    "                                                                             /////////////|     )))\n",
    "                                                                            //////////////|    )))\n",
    "                                                                          ////////////////|___)))\n",
    "                                                                            ______________|________\n",
    "                                                                            \\                    /\n",
    "                                                                        ~~~~~~~~~~~~~~~~~~~~~~~~~~~''']\n",
    "for b in boats:\n",
    "    clear_output(wait=True)\n",
    "    print(b)\n",
    "    time.sleep(1)"
   ]
  },
  {
   "cell_type": "code",
   "execution_count": null,
   "id": "87837b44",
   "metadata": {},
   "outputs": [],
   "source": []
  },
  {
   "cell_type": "code",
   "execution_count": null,
   "id": "78c37953",
   "metadata": {},
   "outputs": [],
   "source": []
  },
  {
   "cell_type": "markdown",
   "id": "cfc5b78a",
   "metadata": {},
   "source": [
    "# Barco para a esquerda"
   ]
  },
  {
   "cell_type": "code",
   "execution_count": 31,
   "id": "a9f09456",
   "metadata": {},
   "outputs": [
    {
     "name": "stdout",
     "output_type": "stream",
     "text": [
      "               /|___\n",
      "             ///|   ))\n",
      "           /////|   )))\n",
      "         ///////|    )))\n",
      "       /////////|     )))\n",
      "     ///////////|     ))))\n",
      "   /////////////|     )))\n",
      "  //////////////|    )))\n",
      "////////////////|___)))\n",
      "  ______________|________\n",
      "  \\                    /\n",
      "~~~~~~~~~~~~~~~~~~~~~~~~~~~\n"
     ]
    }
   ],
   "source": [
    "from IPython.display import clear_output\n",
    "import time \n",
    "boats = ['''                                                                                         /|___\n",
    "                                                                                       ///|   ))\n",
    "                                                                                     /////|   )))\n",
    "                                                                                   ///////|    )))\n",
    "                                                                                 /////////|     )))\n",
    "                                                                               ///////////|     ))))\n",
    "                                                                             /////////////|     )))\n",
    "                                                                            //////////////|    )))\n",
    "                                                                          ////////////////|___)))\n",
    "                                                                            ______________|________\n",
    "                                                                            \\                    /\n",
    "                                                                        ~~~~~~~~~~~~~~~~~~~~~~~~~~~''','''\n",
    "                                               /|___\n",
    "                                             ///|   ))\n",
    "                                           /////|   )))\n",
    "                                         ///////|    )))\n",
    "                                       /////////|     )))\n",
    "                                     ///////////|     ))))\n",
    "                                   /////////////|     )))\n",
    "                                  //////////////|    )))\n",
    "                                ////////////////|___)))\n",
    "                                  ______________|________\n",
    "                                  \\                    /\n",
    "                                ~~~~~~~~~~~~~~~~~~~~~~~~~~~''',\n",
    "\n",
    "'''               /|___\n",
    "             ///|   ))\n",
    "           /////|   )))\n",
    "         ///////|    )))\n",
    "       /////////|     )))\n",
    "     ///////////|     ))))\n",
    "   /////////////|     )))\n",
    "  //////////////|    )))\n",
    "////////////////|___)))\n",
    "  ______________|________\n",
    "  \\                    /\n",
    "~~~~~~~~~~~~~~~~~~~~~~~~~~~''']\n",
    "for b in boats:\n",
    "    clear_output(wait=True)\n",
    "    print(b)\n",
    "    time.sleep(1)"
   ]
  },
  {
   "cell_type": "code",
   "execution_count": null,
   "id": "c2c31b0e",
   "metadata": {},
   "outputs": [],
   "source": []
  },
  {
   "cell_type": "code",
   "execution_count": null,
   "id": "9a781f62",
   "metadata": {},
   "outputs": [],
   "source": []
  },
  {
   "cell_type": "code",
   "execution_count": null,
   "id": "5e4f53ba",
   "metadata": {},
   "outputs": [],
   "source": []
  },
  {
   "cell_type": "code",
   "execution_count": null,
   "id": "c0ad8b78",
   "metadata": {},
   "outputs": [],
   "source": []
  }
 ],
 "metadata": {
  "kernelspec": {
   "display_name": "Python 3",
   "language": "python",
   "name": "python3"
  },
  "language_info": {
   "codemirror_mode": {
    "name": "ipython",
    "version": 3
   },
   "file_extension": ".py",
   "mimetype": "text/x-python",
   "name": "python",
   "nbconvert_exporter": "python",
   "pygments_lexer": "ipython3",
   "version": "3.8.8"
  }
 },
 "nbformat": 4,
 "nbformat_minor": 5
}
